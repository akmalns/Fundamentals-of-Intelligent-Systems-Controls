{
 "cells": [
  {
   "cell_type": "markdown",
   "metadata": {
    "id": "ekh5L0MFkrJe"
   },
   "source": [
    "Nomor Kelompok: ...\n",
    "\n",
    "Anggota:\n",
    "\n",
    "1.   Nama - NIM\n",
    "2.   Nama - NIM\n",
    "3.   Nama - NIM\n",
    "4.   Nama - NIM\n",
    "\n"
   ]
  },
  {
   "cell_type": "markdown",
   "metadata": {
    "id": "XBCKe2KpdJ2p"
   },
   "source": [
    "# Tugas 2 Logistic Regression"
   ]
  },
  {
   "cell_type": "markdown",
   "metadata": {
    "id": "rjLQnEOGdHuy"
   },
   "source": [
    "Pada tugas ini diperkenalkan library  pandas untuk menyediakan tools pengolahan data, dan library seaborn sebagai tools visualisasi data. \n",
    "\n",
    "Menggunakan dataset yang sudah tersedia pada library Scikitlearn, dilakukan analisis terhadap data beserta sebarannya. Sebaran data menunjukkan seluruh kemungkinan nilai-nilai (atau interval) yang ada dari suatu data, beserta tingkat kemunculannya.\n",
    "\n",
    "Anda diminta untuk membangun model regresi logistik yang dapat memprediksi tingkat keparahan penyakit berdasarkan fitur-fitur yang diberikan, jika diketahui dataset dengan sebaran data sedemikian rupa.\n",
    "\n"
   ]
  },
  {
   "cell_type": "markdown",
   "metadata": {
    "id": "jiFkTLY52p5E"
   },
   "source": [
    "# Dataset Sklearn"
   ]
  },
  {
   "cell_type": "markdown",
   "metadata": {
    "id": "1vITH36ndZAc"
   },
   "source": [
    "Pada library scikit learn terdapat beberapa contoh dataset yang dapat digunakan untuk membangun model pembelajaran mesin (machine learning). Data-data ini umumnya sudah melalui tahap preprocessing sehingga bisa dapat langsung diolah. Pada tugas ini digunakan dataset Breast Cancer Severity yang tersusun dari variabel-variabel yang dapat berpengaruh terhadap nilai median harga rumah."
   ]
  },
  {
   "cell_type": "code",
   "execution_count": null,
   "metadata": {
    "id": "wPJHIJwL2p5E"
   },
   "outputs": [],
   "source": [
    "# Library untuk pengolahan data\n",
    "import numpy as np\n",
    "import pandas as pd\n",
    "import random as rnd\n",
    "\n",
    "# Library untuk visualisasi data\n",
    "import seaborn as sns\n",
    "import matplotlib.pyplot as plt\n",
    "%matplotlib inline\n",
    "\n",
    "# Import library untuk pembentukan model\n",
    "from sklearn.linear_model import LogisticRegression\n",
    "from sklearn.model_selection import train_test_split \n",
    "\n",
    "# Import dataset yang disediakan oleh library Scikit Learn\n",
    "from sklearn import datasets"
   ]
  },
  {
   "cell_type": "code",
   "execution_count": null,
   "metadata": {
    "id": "S6QcTWIa2p5F"
   },
   "outputs": [],
   "source": [
    "# Load contoh dasaset Breast Cancer dari library scikit learn\n",
    "cancer = datasets.load_breast_cancer()\n",
    "\n",
    "# Lihat deskripsi dataset menggunakan built-in function pada scikit learn\n",
    "# Fungsi ini menampilkan deskripsi singkat mengenai fitur-fitur yang ada pada dataset\n",
    "print(cancer.DESCR)"
   ]
  },
  {
   "cell_type": "code",
   "execution_count": null,
   "metadata": {
    "id": "G28heBeD2p5G"
   },
   "outputs": [],
   "source": [
    "# Menyimpan seluruh data dari dataset Cancer ke dalam pandas dataframe tunggal\n",
    "df = pd.DataFrame(np.c_[cancer['data'], cancer['target']],\n",
    "                  columns= np.append(cancer['feature_names'], ['diagnosis']))"
   ]
  },
  {
   "cell_type": "code",
   "execution_count": null,
   "metadata": {
    "id": "jsGFYwyP2p5H",
    "scrolled": true
   },
   "outputs": [],
   "source": [
    "# Menampilkan jenis-jenis fitur yang ada di dataset beserta label/kelas/target nya\n",
    "df.columns"
   ]
  },
  {
   "cell_type": "code",
   "execution_count": null,
   "metadata": {
    "id": "LReeTtUz2p5H"
   },
   "outputs": [],
   "source": [
    "# Menyalin seluruh fitur ke variabel fitur dalam format pandas dataframe\n",
    "feature_df = pd.DataFrame(cancer.data,columns = cancer.feature_names)"
   ]
  },
  {
   "cell_type": "code",
   "execution_count": null,
   "metadata": {
    "id": "QF5GHfdI2p5H",
    "scrolled": true
   },
   "outputs": [],
   "source": [
    "# Menyalin label yang berasosiasi dengan fitur ke variabel target dalam format pandas dataframe\n",
    "target_df = pd.DataFrame(cancer.target,columns = [\"diagnosis\"])"
   ]
  },
  {
   "cell_type": "code",
   "execution_count": null,
   "metadata": {
    "id": "dLBvwdku2p5H"
   },
   "outputs": [],
   "source": [
    "# Menampilkan nama-nama fitur, null value atau cell yang kosong, dan tipe data dari masing-masing fitur\n",
    "feature_df.info()"
   ]
  },
  {
   "cell_type": "code",
   "execution_count": null,
   "metadata": {
    "id": "GUBIvH5g2p5I"
   },
   "outputs": [],
   "source": [
    "# Menampilkan nama-nama fitur, null value atau cell yang kosong, dan tipe data dari target\n",
    "target_df.info()"
   ]
  },
  {
   "cell_type": "code",
   "execution_count": null,
   "metadata": {
    "id": "XxvkASrR2p5I"
   },
   "outputs": [],
   "source": [
    "# Mendefinisikan objek regresi dalam bentuk python object\n",
    "model = LogisticRegression(max_iter = 10000)\n",
    "\n",
    "# Mendefinisikan variabel-variabel training menggunakan pasangan data-data fitur beserta targetnya\n",
    "X = feature_df\n",
    "y = target_df.values.ravel()\n",
    "\n",
    "# Melatih model dengan data train\n",
    "model.fit(X,y)"
   ]
  },
  {
   "cell_type": "code",
   "execution_count": null,
   "metadata": {
    "id": "x8decHFp2p5J"
   },
   "outputs": [],
   "source": [
    "# Menampilkan parameter model regresi yang dimensinya sesuai dengan dimensi fitur\n",
    "print(model.intercept_)\n",
    "print(model.coef_)\n",
    "\n",
    "# Menghitung score model menggunakan metric default\n",
    "print(model.score(X,y))\n",
    "\n",
    "# Menggunakan model regresi untuk menghitung prediksi dari seluruh data input kemudian menampilkan 5 elemen pertama sebagai contoh\n",
    "predictions = model.predict(X)\n",
    "print(predictions[0:5])"
   ]
  },
  {
   "cell_type": "markdown",
   "metadata": {
    "id": "KsSNQhZ62p5J"
   },
   "source": [
    "# Pengolahan Data"
   ]
  },
  {
   "cell_type": "markdown",
   "metadata": {
    "id": "DIXg40K8d1Rd"
   },
   "source": [
    "Kali ini dilakukan eliminasi fitur untuk menghilangkan fitur-fitur yang dianggap kurang representatif. Dilanjutkan dengan membagi data menjadi data train dan test untuk kemudian dilatih."
   ]
  },
  {
   "cell_type": "code",
   "execution_count": null,
   "metadata": {
    "id": "U-DpmKO72p5J"
   },
   "outputs": [],
   "source": [
    "# Menyalin dataframe ke dataframe baru agar dataframe awal tidak berubah\n",
    "df_drop = df.copy()"
   ]
  },
  {
   "cell_type": "code",
   "execution_count": null,
   "metadata": {
    "id": "ciEItr2q2p5J"
   },
   "outputs": [],
   "source": [
    "# Menghilangkan tiga fitur yang dianggap tidak relevan atau tidak penting\n",
    "df_drop = df_drop.drop(['mean perimeter', 'perimeter error', 'worst perimeter'], axis=1)"
   ]
  },
  {
   "cell_type": "code",
   "execution_count": null,
   "metadata": {
    "id": "xeW5h60x7ytc"
   },
   "outputs": [],
   "source": [
    "# Misal ingin membangun model menggunakan enam fitur berikut:\n",
    "# mean radius, mean texture, radius error, texture error, worst radius, worst texture\n",
    "# Maka fitur-fitur lain juga perlu dihilangkan\n",
    "df_drop = df_drop.drop(['mean area', 'area error', 'worst area'], axis=1)\n",
    "df_drop = df_drop.drop(['mean smoothness', 'smoothness error', 'worst smoothness'], axis=1)\n",
    "df_drop = df_drop.drop(['mean compactness', 'compactness error', 'worst compactness'], axis=1)\n",
    "df_drop = df_drop.drop(['mean concavity', 'concavity error', 'worst concavity'], axis=1)\n",
    "df_drop = df_drop.drop(['mean concave points', 'concave points error', 'worst concave points'], axis=1)\n",
    "df_drop = df_drop.drop(['mean symmetry', 'symmetry error', 'worst symmetry'], axis=1)\n",
    "df_drop = df_drop.drop(['mean fractal dimension', 'fractal dimension error', 'worst fractal dimension'], axis=1)"
   ]
  },
  {
   "cell_type": "code",
   "execution_count": null,
   "metadata": {
    "id": "IypZnq3_2p5J"
   },
   "outputs": [],
   "source": [
    "# Menampilkan daftar fitur yang masih tersisa di dataframe\n",
    "df_drop.columns"
   ]
  },
  {
   "cell_type": "code",
   "execution_count": null,
   "metadata": {
    "id": "vJN6a8tL2p5K"
   },
   "outputs": [],
   "source": [
    "# Menampilkan fitur dan target dari 5 data teratas pada dataframe\n",
    "df_drop.head()"
   ]
  },
  {
   "cell_type": "code",
   "execution_count": null,
   "metadata": {
    "id": "KbmUSIjf2p5K"
   },
   "outputs": [],
   "source": [
    "# Menampilkan nilai-nilai statistik dari setiap fiur-fitur terpilih di dataframe\n",
    "df_drop.describe()"
   ]
  },
  {
   "cell_type": "code",
   "execution_count": null,
   "metadata": {
    "id": "flvveH4O2p5K"
   },
   "outputs": [],
   "source": [
    "# Menyeleksi kolom target, mengubah ke bentuk pandas dataframe, dan menampilkan head\n",
    "df_drop_y = df_drop['diagnosis']\n",
    "df_drop_y = pd.DataFrame(df_drop['diagnosis'])\n",
    "df_drop_y.head()"
   ]
  },
  {
   "cell_type": "code",
   "execution_count": null,
   "metadata": {
    "id": "VhR_JFek2p5K"
   },
   "outputs": [],
   "source": [
    "# Menghilangkan kolom target, mengubah ke bentuk pandas dataframe, dan menampilkan head\n",
    "df_drop_X = df_drop.drop(['diagnosis'], axis=1)\n",
    "df_drop_X = pd.DataFrame(df_drop_X)\n",
    "df_drop_X.head()"
   ]
  },
  {
   "cell_type": "code",
   "execution_count": null,
   "metadata": {
    "id": "HirtSHMx2p5K"
   },
   "outputs": [],
   "source": [
    "# Mendefinisikan objek regresi dalam bentuk python object\n",
    "model = LogisticRegression(max_iter = 100000)\n",
    "\n",
    "# Mendefinisikan variabel-variabel training menggunakan pasangan data-data fitur beserta targetnya\n",
    "X = df_drop_X\n",
    "y = df_drop_y.values.ravel()\n",
    "\n",
    "print(X.shape)\n",
    "print(y.shape)\n",
    "\n",
    "# Melatih model dengan data train\n",
    "model.fit(X,y)"
   ]
  },
  {
   "cell_type": "code",
   "execution_count": null,
   "metadata": {
    "id": "9zW9Ng4Z2p5L"
   },
   "outputs": [],
   "source": [
    "# Menampilkan parameter model regresi yang dimensinya sesuai dengan dimensi fitur\n",
    "print(model.intercept_)\n",
    "print(model.coef_)\n",
    "\n",
    "# Menghitung score model menggunakan metrik default\n",
    "print(model.score(X,y))\n",
    "\n",
    "# Menghitung prediksi dari seluruh data input kemudian menampilkan 5 elemen pertama sebagai contoh\n",
    "predictions = model.predict(X)\n",
    "print(predictions[0:5])"
   ]
  },
  {
   "cell_type": "code",
   "execution_count": null,
   "metadata": {
    "id": "gKnnXils2p5M"
   },
   "outputs": [],
   "source": [
    "# Membagi dataset menjadi data train dan data test, dengan perbandingan 4:1\n",
    "X_train, X_test, y_train, y_test = train_test_split(X,y,test_size=0.2,random_state=0)\n",
    "\n",
    "# Menampilkan ukuran dataset yang telah dibagi untuk memastikan jumlah dataset berbanding 4:1\n",
    "print(X_train.shape)\n",
    "print(y_train.shape)\n",
    "print(X_test.shape)\n",
    "print(y_test.shape)"
   ]
  },
  {
   "cell_type": "code",
   "execution_count": null,
   "metadata": {
    "id": "cZ-_wZV22p5M"
   },
   "outputs": [],
   "source": [
    "# Melatih regressor dengan seluruh fitur beserta label/target nya\n",
    "model = LogisticRegression()\n",
    "model.fit(X_train,y_train)"
   ]
  },
  {
   "cell_type": "code",
   "execution_count": null,
   "metadata": {
    "id": "BT-vOSTn2p5N",
    "scrolled": true
   },
   "outputs": [],
   "source": [
    "# Menghitung performa regressor untuk data train dan data test, kemudian membandingkan kedua nilai tersebut\n",
    "train_score = model.score(X_train,y_train)\n",
    "print(train_score)\n",
    "\n",
    "test_score = model.score(X_test,y_test)\n",
    "print(test_score)"
   ]
  },
  {
   "cell_type": "markdown",
   "metadata": {
    "id": "9Bv2b1pE2p5L"
   },
   "source": [
    "# Visualisasi Data"
   ]
  },
  {
   "cell_type": "markdown",
   "metadata": {
    "id": "wRC23MS3Nkhn"
   },
   "source": [
    "Performa algoritma Machine Learning dapat meningkat jika dilatih dengan data yang banyak. Namun fitur yang banyak belum tentu menjamin performa yang baik, karena tidak semua fitur dapat merepresentasikan masalah yang terjadi. Salah satu cara untuk melihat karakteristik dari data adalah dengan melakukan visualisasi data."
   ]
  },
  {
   "cell_type": "code",
   "execution_count": null,
   "metadata": {
    "id": "FPpC3KCL2p5L"
   },
   "outputs": [],
   "source": [
    "# Menampilkan histogram dari fitur mean texture untuk masing-masing hasil diagnosis\n",
    "g = sns.FacetGrid(df_drop, col='diagnosis')\n",
    "g.map(plt.hist,'mean texture',bins=20)\n",
    "g.add_legend();"
   ]
  },
  {
   "cell_type": "code",
   "execution_count": null,
   "metadata": {
    "id": "armEdDBN2p5L"
   },
   "outputs": [],
   "source": [
    "# Menampilkan histogram dari fitur radius error untuk masing-masing hasil diagnosis\n",
    "g = sns.FacetGrid(df_drop, col='diagnosis')\n",
    "g.map(plt.hist,'radius error',bins=20)\n",
    "g.add_legend();"
   ]
  },
  {
   "cell_type": "code",
   "execution_count": null,
   "metadata": {
    "id": "6eqg7PKH2p5M"
   },
   "outputs": [],
   "source": [
    "# Menampilkan histogram dari fitur worst texture untuk masing-masing hasil diagnosis\n",
    "g = sns.FacetGrid(df_drop, col='diagnosis')\n",
    "g.map(plt.hist,'worst texture',bins=20)\n",
    "g.add_legend();"
   ]
  },
  {
   "cell_type": "code",
   "execution_count": null,
   "metadata": {
    "id": "weC98T-r2p5R"
   },
   "outputs": [],
   "source": [
    "# Menggunakan library seaborn untuk menampilkan hasil perhitungan matriks korelasi antar fitur\n",
    "plt.figure(figsize=(30,30))\n",
    "cor = df.corr()\n",
    "sns.heatmap(cor, annot=True, cmap=plt.cm.Reds)\n",
    "plt.show()"
   ]
  },
  {
   "cell_type": "code",
   "execution_count": null,
   "metadata": {
    "id": "lbsAP44f2p5S"
   },
   "outputs": [],
   "source": [
    "# Menampilkan secara terurut fitur yang memiliki korelasi terhadap fitur target\n",
    "cor_target = abs(cor[\"diagnosis\"])\n",
    "relevant_features = cor_target[cor_target>0]\n",
    "relevant_features.sort_values(kind=\"quicksort\")"
   ]
  },
  {
   "cell_type": "markdown",
   "metadata": {
    "id": "VkiReqHIcAWJ"
   },
   "source": [
    "# Tugas"
   ]
  },
  {
   "cell_type": "markdown",
   "metadata": {
    "id": "_hpmd_N5cAWJ"
   },
   "source": [
    "Buatlah model regresi logistik untuk memprediksi tingkat keparahan kanker \"diagnosis\" dalam 4 tahap\n",
    "\n",
    "1.   Melakukan visualisasi terhadap setiap fitur untuk melihat bentuk sebaran data\n",
    "2.   Menentukan 3 fitur yang paling baik untuk digunakan sebagai data train berdasarkan analisis\n",
    "3.   Melakukan training dan testing dengan proporsi data train dan data test yang berbeda-beda\n",
    "4.   Menghitung metrik performa dari model yang sudah dilatih\n",
    "\n",
    "Lakukan coding dan analisis pada setiap tahap yang disediakan di file ini. \n",
    "\n",
    "Simpan hasil pekerjaan dalam 1 buah file berformat .ipynb, dengan format nama \"Tugas_2_NomorKelompok\" (contoh: Tugas_2_99.ipynb)\n",
    "\n",
    "Batas waktu pengumpulan Jumat 2 April 2021, pukul 17.00 WIB."
   ]
  },
  {
   "cell_type": "markdown",
   "metadata": {
    "id": "lapVT_03b7vD"
   },
   "source": [
    "## Tahap 1: Visualisasi"
   ]
  },
  {
   "cell_type": "code",
   "execution_count": null,
   "metadata": {
    "id": "ZnrG4Q21b6zv"
   },
   "outputs": [],
   "source": [
    "# visualisasikan fitur-fitur menggunakan matplotlib atau seaborn untuk mendapatkan insight tentang korelasi fitur terhadap target"
   ]
  },
  {
   "cell_type": "markdown",
   "metadata": {
    "id": "dHSLnUVdcDdx"
   },
   "source": [
    "Analisis dan kesimpulan yang didapat dari proses visualisasi fitur:\n",
    "\n",
    ".\n",
    "\n",
    ".\n",
    "\n",
    ".\n"
   ]
  },
  {
   "cell_type": "markdown",
   "metadata": {
    "id": "zFIKfAtkcMcx"
   },
   "source": [
    "## Tahap 2: Pemilihan Fitur"
   ]
  },
  {
   "cell_type": "code",
   "execution_count": null,
   "metadata": {
    "id": "PrLPfw7ccMmB"
   },
   "outputs": [],
   "source": [
    "# pilih 3 fitur dan simpan ke variabel baru untuk digunakan pada tahap 3"
   ]
  },
  {
   "cell_type": "markdown",
   "metadata": {
    "id": "mS8K9129cMvd"
   },
   "source": [
    "Alasan pemilihan 3 fitur yang dianggap baik:\n",
    "\n",
    ".\n",
    "\n",
    ".\n",
    "\n",
    "."
   ]
  },
  {
   "cell_type": "markdown",
   "metadata": {
    "id": "PuBurFukcM1h"
   },
   "source": [
    "## Tahap 3: Training dan Testing"
   ]
  },
  {
   "cell_type": "code",
   "execution_count": null,
   "metadata": {
    "id": "xPEnSFEpcM7R"
   },
   "outputs": [],
   "source": [
    "# tentukan 2 variasi proporsi data train:test, kemudian latih model untuk setiap variasi"
   ]
  },
  {
   "cell_type": "markdown",
   "metadata": {
    "id": "V9GqUhavcNBb"
   },
   "source": [
    "Alasan pemilihan proporsi data train dan data test:\n",
    "\n",
    ".\n",
    "\n",
    ".\n",
    "\n",
    "."
   ]
  },
  {
   "cell_type": "markdown",
   "metadata": {
    "id": "RfmTrdducNFp"
   },
   "source": [
    "## Tahap 4: Metrik Performa"
   ]
  },
  {
   "cell_type": "code",
   "execution_count": null,
   "metadata": {
    "id": "-gNsmS_RcNK4"
   },
   "outputs": [],
   "source": [
    "# tentukan metrik yang tepat untuk kasus ini, dan gunakan untuk model yang sudah dilatih pada tahap 3"
   ]
  },
  {
   "cell_type": "markdown",
   "metadata": {
    "id": "DjOdJssCcNRT"
   },
   "source": [
    "Alasan pemilihan metrik dan analisis performa model menggunakan metrik tersebut:\n",
    "\n",
    ".\n",
    "\n",
    ".\n",
    "\n",
    "."
   ]
  }
 ],
 "metadata": {
  "colab": {
   "collapsed_sections": [],
   "name": "Tugas 2 -  Logistic Regression.ipynb",
   "provenance": [
    {
     "file_id": "1Y8GguCJ4z-qH5q35RDitc773UNjyOZdD",
     "timestamp": 1615794653975
    }
   ],
   "toc_visible": true
  },
  "kernelspec": {
   "display_name": "Python 3",
   "language": "python",
   "name": "python3"
  },
  "language_info": {
   "codemirror_mode": {
    "name": "ipython",
    "version": 3
   },
   "file_extension": ".py",
   "mimetype": "text/x-python",
   "name": "python",
   "nbconvert_exporter": "python",
   "pygments_lexer": "ipython3",
   "version": "3.7.3"
  }
 },
 "nbformat": 4,
 "nbformat_minor": 1
}
